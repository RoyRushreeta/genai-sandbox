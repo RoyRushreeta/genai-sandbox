{
 "cells": [
  {
   "cell_type": "code",
   "execution_count": 85,
   "id": "0e76f01a",
   "metadata": {},
   "outputs": [],
   "source": [
    "# pip install -qU \"langchain[google-genai]\"\n",
    "# pip install langchain_community\n",
    "# !pip install pypdf\n",
    "# !pip install sentence-transformers\n",
    "# !pip install faiss-cpu"
   ]
  },
  {
   "cell_type": "markdown",
   "id": "1c90785b",
   "metadata": {},
   "source": [
    "# Gemini API Call"
   ]
  },
  {
   "cell_type": "code",
   "execution_count": 89,
   "id": "11b436d5",
   "metadata": {},
   "outputs": [
    {
     "data": {
      "text/plain": [
       "AIMessage(content='The capital of India is **New Delhi**.', additional_kwargs={}, response_metadata={'prompt_feedback': {'block_reason': 0, 'safety_ratings': []}, 'finish_reason': 'STOP', 'model_name': 'gemini-2.5-flash', 'safety_ratings': []}, id='run--45fbe569-c984-4485-a91c-a4081134693b-0', usage_metadata={'input_tokens': 8, 'output_tokens': 26, 'total_tokens': 34, 'input_token_details': {'cache_read': 0}, 'output_token_details': {'reasoning': 17}})"
      ]
     },
     "execution_count": 89,
     "metadata": {},
     "output_type": "execute_result"
    }
   ],
   "source": [
    "import os\n",
    "from dotenv import load_dotenv\n",
    "\n",
    "load_dotenv()\n",
    "os.environ[\"GOOGLE_API_KEY\"] = os.getenv(\"GOOGLE_API_KEY\")\n",
    "\n",
    "from langchain_google_genai import ChatGoogleGenerativeAI\n",
    "\n",
    "model = ChatGoogleGenerativeAI(model=\"gemini-2.5-flash\", max_retries=2)\n",
    "model.invoke(\"What is the capital of India?\")"
   ]
  },
  {
   "cell_type": "markdown",
   "id": "1e29f8a8",
   "metadata": {},
   "source": [
    "# Load Document"
   ]
  },
  {
   "cell_type": "code",
   "execution_count": 87,
   "id": "9e63649c",
   "metadata": {},
   "outputs": [],
   "source": [
    "# Loading Documents\n",
    "from langchain_community.document_loaders import DirectoryLoader\n",
    "from langchain_community.document_loaders import PyPDFLoader\n",
    "\n",
    "loader = DirectoryLoader('./', glob=\"./ABI GCC - Holiday Calendar 2024.pdf\", loader_cls=PyPDFLoader)\n",
    "docs = loader.load()"
   ]
  },
  {
   "cell_type": "markdown",
   "id": "8058fcb0",
   "metadata": {},
   "source": [
    "# Document Chunking\n",
    "The text splitter from langchain splits the document into different chunks. Chunk size = 100 means each chunk has 100 characters. overlap = 10 means there is an overlop of 10 characters between different chunks to retain context and semantic continuity. \n",
    "Generally chunk size of 500-2000 is used.\n",
    "\n",
    "Recursive nature adds makes the chunking smarter. Instead of cutting text at exact character counts, it splits based on double newlines (\\n\\n), new lines (\\n), spaces( ) and individual characters(\"\"). This helps preserve paragraphs/sentence/words thereby making the chunks more meaningful"
   ]
  },
  {
   "cell_type": "code",
   "execution_count": 88,
   "id": "b2d089cc",
   "metadata": {},
   "outputs": [
    {
     "data": {
      "text/plain": [
       "[Document(metadata={'producer': 'Microsoft® Word for Microsoft 365', 'creator': 'Microsoft® Word for Microsoft 365', 'creationdate': '2023-12-15T16:38:18+05:30', 'author': 'DUTTA SUBHASREE', 'moddate': '2023-12-15T16:38:18+05:30', 'source': 'ABI GCC - Holiday Calendar 2024.pdf', 'total_pages': 1, 'page': 0, 'page_label': '1'}, page_content='ABI GCC Holiday Calendar - Year 2024 (5 fixed holidays) \\nMonth Date Day Holiday Comment'),\n",
       " Document(metadata={'producer': 'Microsoft® Word for Microsoft 365', 'creator': 'Microsoft® Word for Microsoft 365', 'creationdate': '2023-12-15T16:38:18+05:30', 'author': 'DUTTA SUBHASREE', 'moddate': '2023-12-15T16:38:18+05:30', 'source': 'ABI GCC - Holiday Calendar 2024.pdf', 'total_pages': 1, 'page': 0, 'page_label': '1'}, page_content='January 26-01-24 Friday Republic Day Statutory Holiday'),\n",
       " Document(metadata={'producer': 'Microsoft® Word for Microsoft 365', 'creator': 'Microsoft® Word for Microsoft 365', 'creationdate': '2023-12-15T16:38:18+05:30', 'author': 'DUTTA SUBHASREE', 'moddate': '2023-12-15T16:38:18+05:30', 'source': 'ABI GCC - Holiday Calendar 2024.pdf', 'total_pages': 1, 'page': 0, 'page_label': '1'}, page_content='May 01-05-24 Wednesday May Day Statutory Holiday'),\n",
       " Document(metadata={'producer': 'Microsoft® Word for Microsoft 365', 'creator': 'Microsoft® Word for Microsoft 365', 'creationdate': '2023-12-15T16:38:18+05:30', 'author': 'DUTTA SUBHASREE', 'moddate': '2023-12-15T16:38:18+05:30', 'source': 'ABI GCC - Holiday Calendar 2024.pdf', 'total_pages': 1, 'page': 0, 'page_label': '1'}, page_content='August 15-08-24 Thursday Independence Day Statutory Holiday'),\n",
       " Document(metadata={'producer': 'Microsoft® Word for Microsoft 365', 'creator': 'Microsoft® Word for Microsoft 365', 'creationdate': '2023-12-15T16:38:18+05:30', 'author': 'DUTTA SUBHASREE', 'moddate': '2023-12-15T16:38:18+05:30', 'source': 'ABI GCC - Holiday Calendar 2024.pdf', 'total_pages': 1, 'page': 0, 'page_label': '1'}, page_content='October 02-10-24 Wednesday Gandhi Jayanti Statutory Holiday'),\n",
       " Document(metadata={'producer': 'Microsoft® Word for Microsoft 365', 'creator': 'Microsoft® Word for Microsoft 365', 'creationdate': '2023-12-15T16:38:18+05:30', 'author': 'DUTTA SUBHASREE', 'moddate': '2023-12-15T16:38:18+05:30', 'source': 'ABI GCC - Holiday Calendar 2024.pdf', 'total_pages': 1, 'page': 0, 'page_label': '1'}, page_content='November 01-11-24 Friday Kannada Rajyotsava Statutory Holiday'),\n",
       " Document(metadata={'producer': 'Microsoft® Word for Microsoft 365', 'creator': 'Microsoft® Word for Microsoft 365', 'creationdate': '2023-12-15T16:38:18+05:30', 'author': 'DUTTA SUBHASREE', 'moddate': '2023-12-15T16:38:18+05:30', 'source': 'ABI GCC - Holiday Calendar 2024.pdf', 'total_pages': 1, 'page': 0, 'page_label': '1'}, page_content='5 Optional Holidays can be selected from the list below \\nMonth Date Day Holiday Comment'),\n",
       " Document(metadata={'producer': 'Microsoft® Word for Microsoft 365', 'creator': 'Microsoft® Word for Microsoft 365', 'creationdate': '2023-12-15T16:38:18+05:30', 'author': 'DUTTA SUBHASREE', 'moddate': '2023-12-15T16:38:18+05:30', 'source': 'ABI GCC - Holiday Calendar 2024.pdf', 'total_pages': 1, 'page': 0, 'page_label': '1'}, page_content=\"January 01-01-24 Monday New Year's Day Optional Holiday\"),\n",
       " Document(metadata={'producer': 'Microsoft® Word for Microsoft 365', 'creator': 'Microsoft® Word for Microsoft 365', 'creationdate': '2023-12-15T16:38:18+05:30', 'author': 'DUTTA SUBHASREE', 'moddate': '2023-12-15T16:38:18+05:30', 'source': 'ABI GCC - Holiday Calendar 2024.pdf', 'total_pages': 1, 'page': 0, 'page_label': '1'}, page_content='January 15-01-24 Monday Makar Sankranti Optional Holiday'),\n",
       " Document(metadata={'producer': 'Microsoft® Word for Microsoft 365', 'creator': 'Microsoft® Word for Microsoft 365', 'creationdate': '2023-12-15T16:38:18+05:30', 'author': 'DUTTA SUBHASREE', 'moddate': '2023-12-15T16:38:18+05:30', 'source': 'ABI GCC - Holiday Calendar 2024.pdf', 'total_pages': 1, 'page': 0, 'page_label': '1'}, page_content='March 25-03-24 Monday Holi Optional Holiday \\nMarch 29-03-24 Friday Good Friday Optional Holiday'),\n",
       " Document(metadata={'producer': 'Microsoft® Word for Microsoft 365', 'creator': 'Microsoft® Word for Microsoft 365', 'creationdate': '2023-12-15T16:38:18+05:30', 'author': 'DUTTA SUBHASREE', 'moddate': '2023-12-15T16:38:18+05:30', 'source': 'ABI GCC - Holiday Calendar 2024.pdf', 'total_pages': 1, 'page': 0, 'page_label': '1'}, page_content='April 09-04-24 Tuesday Ugadi Optional Holiday \\nApril 11-04-24 Thursday Idul Fitr Optional Holiday'),\n",
       " Document(metadata={'producer': 'Microsoft® Word for Microsoft 365', 'creator': 'Microsoft® Word for Microsoft 365', 'creationdate': '2023-12-15T16:38:18+05:30', 'author': 'DUTTA SUBHASREE', 'moddate': '2023-12-15T16:38:18+05:30', 'source': 'ABI GCC - Holiday Calendar 2024.pdf', 'total_pages': 1, 'page': 0, 'page_label': '1'}, page_content='May 10-05-24 Friday Basava Jayanthi/Akshaya \\nTritiya Optional Holiday'),\n",
       " Document(metadata={'producer': 'Microsoft® Word for Microsoft 365', 'creator': 'Microsoft® Word for Microsoft 365', 'creationdate': '2023-12-15T16:38:18+05:30', 'author': 'DUTTA SUBHASREE', 'moddate': '2023-12-15T16:38:18+05:30', 'source': 'ABI GCC - Holiday Calendar 2024.pdf', 'total_pages': 1, 'page': 0, 'page_label': '1'}, page_content='June 17-06-24 Monday Bakrid Optional Holiday'),\n",
       " Document(metadata={'producer': 'Microsoft® Word for Microsoft 365', 'creator': 'Microsoft® Word for Microsoft 365', 'creationdate': '2023-12-15T16:38:18+05:30', 'author': 'DUTTA SUBHASREE', 'moddate': '2023-12-15T16:38:18+05:30', 'source': 'ABI GCC - Holiday Calendar 2024.pdf', 'total_pages': 1, 'page': 0, 'page_label': '1'}, page_content='August 19-08-24 Monday Raksha Bandhan Optional Holiday'),\n",
       " Document(metadata={'producer': 'Microsoft® Word for Microsoft 365', 'creator': 'Microsoft® Word for Microsoft 365', 'creationdate': '2023-12-15T16:38:18+05:30', 'author': 'DUTTA SUBHASREE', 'moddate': '2023-12-15T16:38:18+05:30', 'source': 'ABI GCC - Holiday Calendar 2024.pdf', 'total_pages': 1, 'page': 0, 'page_label': '1'}, page_content='September 16-09-24 Monday Eid-Milad Optional Holiday'),\n",
       " Document(metadata={'producer': 'Microsoft® Word for Microsoft 365', 'creator': 'Microsoft® Word for Microsoft 365', 'creationdate': '2023-12-15T16:38:18+05:30', 'author': 'DUTTA SUBHASREE', 'moddate': '2023-12-15T16:38:18+05:30', 'source': 'ABI GCC - Holiday Calendar 2024.pdf', 'total_pages': 1, 'page': 0, 'page_label': '1'}, page_content='October 11-10-24 Friday Mahanavami/ Ayudhapooja Optional Holiday'),\n",
       " Document(metadata={'producer': 'Microsoft® Word for Microsoft 365', 'creator': 'Microsoft® Word for Microsoft 365', 'creationdate': '2023-12-15T16:38:18+05:30', 'author': 'DUTTA SUBHASREE', 'moddate': '2023-12-15T16:38:18+05:30', 'source': 'ABI GCC - Holiday Calendar 2024.pdf', 'total_pages': 1, 'page': 0, 'page_label': '1'}, page_content='October 31-10-24 Thursday Deepavali/ Naraka \\nChaturdashi Optional Holiday'),\n",
       " Document(metadata={'producer': 'Microsoft® Word for Microsoft 365', 'creator': 'Microsoft® Word for Microsoft 365', 'creationdate': '2023-12-15T16:38:18+05:30', 'author': 'DUTTA SUBHASREE', 'moddate': '2023-12-15T16:38:18+05:30', 'source': 'ABI GCC - Holiday Calendar 2024.pdf', 'total_pages': 1, 'page': 0, 'page_label': '1'}, page_content='November 18-11-24 Monday Kanakadasa Jayanthi Optional Holiday'),\n",
       " Document(metadata={'producer': 'Microsoft® Word for Microsoft 365', 'creator': 'Microsoft® Word for Microsoft 365', 'creationdate': '2023-12-15T16:38:18+05:30', 'author': 'DUTTA SUBHASREE', 'moddate': '2023-12-15T16:38:18+05:30', 'source': 'ABI GCC - Holiday Calendar 2024.pdf', 'total_pages': 1, 'page': 0, 'page_label': '1'}, page_content='December 25-12-24 Wednesday Christmas Day Optional Holiday'),\n",
       " Document(metadata={'producer': 'Microsoft® Word for Microsoft 365', 'creator': 'Microsoft® Word for Microsoft 365', 'creationdate': '2023-12-15T16:38:18+05:30', 'author': 'DUTTA SUBHASREE', 'moddate': '2023-12-15T16:38:18+05:30', 'source': 'ABI GCC - Holiday Calendar 2024.pdf', 'total_pages': 1, 'page': 0, 'page_label': '1'}, page_content='* All the optional holidays falling on a weekend are not part of the above list')]"
      ]
     },
     "execution_count": 88,
     "metadata": {},
     "output_type": "execute_result"
    }
   ],
   "source": [
    "# Splitting texts into chunks\n",
    "\n",
    "from langchain.text_splitter import RecursiveCharacterTextSplitter\n",
    "\n",
    "text_splitter = RecursiveCharacterTextSplitter(\n",
    "    chunk_size=100,\n",
    "    chunk_overlap=10\n",
    ")\n",
    "texts = text_splitter.split_documents(docs)\n",
    "texts"
   ]
  },
  {
   "cell_type": "markdown",
   "id": "fecc997b",
   "metadata": {},
   "source": [
    "# Generate Embeddings and store in Vector Store"
   ]
  },
  {
   "cell_type": "code",
   "execution_count": null,
   "id": "0ed3cbf0",
   "metadata": {},
   "outputs": [],
   "source": [
    "# Generating embeddings and storing in vector store\n",
    "\n",
    "from langchain.embeddings import HuggingFaceEmbeddings\n",
    "from langchain.vectorstores import FAISS\n",
    "\n",
    "os.environ[\"HUGGINGFACEHUB_API_TOKEN\"] = os.getenv(\"HUGGINGFACEHUB_API_TOKEN\")\n",
    "\n",
    "db = FAISS.from_documents(texts, HuggingFaceEmbeddings(model_name=\"BAAI/bge-base-en-v1.5\"))"
   ]
  },
  {
   "cell_type": "code",
   "execution_count": 93,
   "id": "ce9b3377",
   "metadata": {},
   "outputs": [
    {
     "name": "stdout",
     "output_type": "stream",
     "text": [
      "August 15-08-24 Thursday Independence Day Statutory Holiday\n"
     ]
    }
   ],
   "source": [
    "query = \"What holidays are on 15th Aug?\"\n",
    "\n",
    "relevant_doc = db.similarity_search(query)\n",
    "print(relevant_doc[0].page_content)"
   ]
  },
  {
   "cell_type": "markdown",
   "id": "da19f1ac",
   "metadata": {},
   "source": [
    "# Define Retriever\n",
    "Retriever will retrieve data from vector store created above based on similarity. It will return top 5 most relevant documents."
   ]
  },
  {
   "cell_type": "code",
   "execution_count": 97,
   "id": "e7b655ac",
   "metadata": {},
   "outputs": [
    {
     "data": {
      "text/plain": [
       "[Document(id='9f245dde-f330-4dcf-b141-c2b85f5418a4', metadata={'producer': 'Microsoft® Word for Microsoft 365', 'creator': 'Microsoft® Word for Microsoft 365', 'creationdate': '2023-12-15T16:38:18+05:30', 'author': 'DUTTA SUBHASREE', 'moddate': '2023-12-15T16:38:18+05:30', 'source': 'ABI GCC - Holiday Calendar 2024.pdf', 'total_pages': 1, 'page': 0, 'page_label': '1'}, page_content='August 15-08-24 Thursday Independence Day Statutory Holiday'),\n",
       " Document(id='15bcda2c-bbe9-4d3f-a150-98af047abc2a', metadata={'producer': 'Microsoft® Word for Microsoft 365', 'creator': 'Microsoft® Word for Microsoft 365', 'creationdate': '2023-12-15T16:38:18+05:30', 'author': 'DUTTA SUBHASREE', 'moddate': '2023-12-15T16:38:18+05:30', 'source': 'ABI GCC - Holiday Calendar 2024.pdf', 'total_pages': 1, 'page': 0, 'page_label': '1'}, page_content='August 19-08-24 Monday Raksha Bandhan Optional Holiday'),\n",
       " Document(id='43aeda0c-29c5-471b-a65b-e34a319634b4', metadata={'producer': 'Microsoft® Word for Microsoft 365', 'creator': 'Microsoft® Word for Microsoft 365', 'creationdate': '2023-12-15T16:38:18+05:30', 'author': 'DUTTA SUBHASREE', 'moddate': '2023-12-15T16:38:18+05:30', 'source': 'ABI GCC - Holiday Calendar 2024.pdf', 'total_pages': 1, 'page': 0, 'page_label': '1'}, page_content='January 15-01-24 Monday Makar Sankranti Optional Holiday'),\n",
       " Document(id='cf9131a0-26db-4ba8-b1ca-0afbbab38ecb', metadata={'producer': 'Microsoft® Word for Microsoft 365', 'creator': 'Microsoft® Word for Microsoft 365', 'creationdate': '2023-12-15T16:38:18+05:30', 'author': 'DUTTA SUBHASREE', 'moddate': '2023-12-15T16:38:18+05:30', 'source': 'ABI GCC - Holiday Calendar 2024.pdf', 'total_pages': 1, 'page': 0, 'page_label': '1'}, page_content='March 25-03-24 Monday Holi Optional Holiday \\nMarch 29-03-24 Friday Good Friday Optional Holiday'),\n",
       " Document(id='b1bcaba2-755b-4432-9b0f-984de214da89', metadata={'producer': 'Microsoft® Word for Microsoft 365', 'creator': 'Microsoft® Word for Microsoft 365', 'creationdate': '2023-12-15T16:38:18+05:30', 'author': 'DUTTA SUBHASREE', 'moddate': '2023-12-15T16:38:18+05:30', 'source': 'ABI GCC - Holiday Calendar 2024.pdf', 'total_pages': 1, 'page': 0, 'page_label': '1'}, page_content='5 Optional Holidays can be selected from the list below \\nMonth Date Day Holiday Comment')]"
      ]
     },
     "execution_count": 97,
     "metadata": {},
     "output_type": "execute_result"
    }
   ],
   "source": [
    "retriever = db.as_retriever(search_type=\"similarity\", search_kwargs={\"k\": 5})\n",
    "retriever.get_relevant_documents(query)"
   ]
  },
  {
   "cell_type": "markdown",
   "id": "4222a0d5",
   "metadata": {},
   "source": [
    "# Structured Prompt Template\n",
    "prompt_template gives instructions for the LLM model to follow\n",
    "{context} is the set of relevant documents retrieved from vector store based on similarity\n",
    "{question} is user question"
   ]
  },
  {
   "cell_type": "code",
   "execution_count": 98,
   "id": "0ce8b381",
   "metadata": {},
   "outputs": [],
   "source": [
    "from langchain_core.prompts import PromptTemplate\n",
    "prompt_template = \"\"\"Based on provided context, respond to the question below while adhering to these guidelines:\n",
    "1. If the answer is unclear or not found, do not speculate. Instead, state, \"I do not know the answer\"\n",
    "2. If the answer is found provide a response in {author_name} writer or poet's style of writing.\n",
    "\n",
    "Context: {context}\n",
    "\n",
    "Question: {question}\n",
    "\"\"\"\n",
    "\n",
    "prompt = PromptTemplate(\n",
    "    template=prompt_template,\n",
    "    input_variables=[\"author_name\", \"context\", \"question\"]\n",
    ")"
   ]
  },
  {
   "cell_type": "markdown",
   "id": "f5549425",
   "metadata": {},
   "source": [
    "# Complete RAG Pipeline execution"
   ]
  },
  {
   "cell_type": "code",
   "execution_count": null,
   "id": "abca2235",
   "metadata": {},
   "outputs": [
    {
     "data": {
      "text/plain": [
       "'Indeed, the calendar, much like a well-kept ledger, reveals its secrets quite plainly. Independence Day, a statutory holiday, is clearly marked for the fifteenth of August, two thousand and twenty-four.'"
      ]
     },
     "execution_count": 100,
     "metadata": {},
     "output_type": "execute_result"
    }
   ],
   "source": [
    "human_query = \"When is Independence Day?\"\n",
    "poet_name = \"Agatha Christie\"\n",
    "\n",
    "relevant_doc = retriever.get_relevant_documents(human_query)\n",
    "context = \"\\n\\n\".join([doc.page_content for doc in relevant_doc])\n",
    "\n",
    "# Generate a response using the context and prompt\n",
    "chain = prompt | model\n",
    "result = chain.invoke({\n",
    "  \"question\": human_query,\n",
    "  \"context\": context,\n",
    "  \"author_name\": poet_name\n",
    "})\n",
    "result.content"
   ]
  }
 ],
 "metadata": {
  "kernelspec": {
   "display_name": "genai",
   "language": "python",
   "name": "python3"
  },
  "language_info": {
   "codemirror_mode": {
    "name": "ipython",
    "version": 3
   },
   "file_extension": ".py",
   "mimetype": "text/x-python",
   "name": "python",
   "nbconvert_exporter": "python",
   "pygments_lexer": "ipython3",
   "version": "3.13.0"
  }
 },
 "nbformat": 4,
 "nbformat_minor": 5
}
